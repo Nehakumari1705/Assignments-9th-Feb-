{
 "cells": [
  {
   "cell_type": "markdown",
   "id": "45a33bd8",
   "metadata": {},
   "source": [
    "#### Q1, Create a vehicle class with an init method having instance variables as name_of_vehicle, max_speed and average_of_vehicle.\n"
   ]
  },
  {
   "cell_type": "markdown",
   "id": "bde76563",
   "metadata": {},
   "source": [
    "#### Ans- Here's an example of a vehicle class with an __init__ method that sets the instance variable 'name_of_vehicle', 'max_speed', and 'average_of_vehicle' :"
   ]
  },
  {
   "cell_type": "code",
   "execution_count": 3,
   "id": "cb1d999e",
   "metadata": {},
   "outputs": [],
   "source": [
    "class Vehicle:\n",
    "    def __init__(self,name_of_vehicle,max_speed,average_of_vehicle):\n",
    "        self.name_of_vehicle=name_of_vehicle\n",
    "        self.max_speed=max_speed\n",
    "        self.average_of_vehicle=average_of_vehicle\n",
    "        "
   ]
  },
  {
   "cell_type": "code",
   "execution_count": 4,
   "id": "048c7ad0",
   "metadata": {},
   "outputs": [],
   "source": [
    "Car= Vehicle(\"Honda\",120,40)"
   ]
  },
  {
   "cell_type": "code",
   "execution_count": 6,
   "id": "ef28be54",
   "metadata": {},
   "outputs": [
    {
     "name": "stdout",
     "output_type": "stream",
     "text": [
      "Honda\n"
     ]
    }
   ],
   "source": [
    "print(Car.name_of_vehicle)"
   ]
  },
  {
   "cell_type": "code",
   "execution_count": 7,
   "id": "e6dfbfcc",
   "metadata": {},
   "outputs": [
    {
     "name": "stdout",
     "output_type": "stream",
     "text": [
      "120\n"
     ]
    }
   ],
   "source": [
    "print(Car.max_speed)"
   ]
  },
  {
   "cell_type": "code",
   "execution_count": 8,
   "id": "3ad0e451",
   "metadata": {},
   "outputs": [
    {
     "name": "stdout",
     "output_type": "stream",
     "text": [
      "40\n"
     ]
    }
   ],
   "source": [
    "print(Car.average_of_vehicle)"
   ]
  },
  {
   "cell_type": "markdown",
   "id": "7fb14456",
   "metadata": {},
   "source": [
    "#### Q2. Create a child class car from the vehicle class created in Que 1, which will inherit the vehicle class. Create a method named seating_capacity which takes capacity as an argument and returns the name of the vehicle and its seating capacity.\n",
    "\n",
    "\n",
    "\n",
    "\n",
    "\n",
    "#### Ans-  Here's an  implementation of the Car class that inherits from the Vehicle class and includes a new method seating_capacity:"
   ]
  },
  {
   "cell_type": "code",
   "execution_count": 16,
   "id": "524cc694",
   "metadata": {},
   "outputs": [],
   "source": [
    "class Car(Vehicle):\n",
    "    def seating_capacity(self, capacity):\n",
    "        return f\"{self.name_of_vehicle} has a seating capacity of {capacity} people.\"\n"
   ]
  },
  {
   "cell_type": "code",
   "execution_count": 18,
   "id": "15a897ed",
   "metadata": {},
   "outputs": [
    {
     "name": "stdout",
     "output_type": "stream",
     "text": [
      "Honda Civic has a seating capacity of 5 people.\n"
     ]
    }
   ],
   "source": [
    "car = Car(\"Honda Civic\", 120, 30)\n",
    "print(car.seating_capacity(5))\n"
   ]
  },
  {
   "cell_type": "markdown",
   "id": "1f273a9e",
   "metadata": {},
   "source": [
    "#### Q3. What is multiple inheritance? Write a python code to demonstrate multiple inheritance."
   ]
  },
  {
   "cell_type": "markdown",
   "id": "a0a4f393",
   "metadata": {},
   "source": [
    "#### Ans- Multiple Inheritance in python is a well-known feature that is supported by all the major object-oriented programming languages. It can be described as a process where the child class or object inherits the methods and attributes from one or more parent classes."
   ]
  },
  {
   "cell_type": "code",
   "execution_count": 19,
   "id": "8a85433d",
   "metadata": {},
   "outputs": [],
   "source": [
    "class Mammal:\n",
    "    def mammal_info(self):\n",
    "        print(\"Mammals can give direct birth.\")\n",
    "\n",
    "class WingedAnimal:\n",
    "    def winged_animal_info(self):\n",
    "        print(\"Winged animals can flap.\")\n",
    "\n",
    "class Bat(Mammal, WingedAnimal):\n",
    "    pass"
   ]
  },
  {
   "cell_type": "code",
   "execution_count": 20,
   "id": "d37ce0e5",
   "metadata": {},
   "outputs": [
    {
     "name": "stdout",
     "output_type": "stream",
     "text": [
      "Mammals can give direct birth.\n",
      "Winged animals can flap.\n"
     ]
    }
   ],
   "source": [
    "b1 = Bat()\n",
    "\n",
    "b1.mammal_info()\n",
    "b1.winged_animal_info()"
   ]
  },
  {
   "cell_type": "markdown",
   "id": "3791b584",
   "metadata": {},
   "source": [
    "#### Q4. What are getter and setter in python? Create a class and create a getter and a setter method in this class."
   ]
  },
  {
   "cell_type": "markdown",
   "id": "a197a260",
   "metadata": {},
   "source": [
    "#### Ans- getters are the methods which help access the private attributes or get the value of the private attributes and setters are the methods which help change or set the value of private attributes."
   ]
  },
  {
   "cell_type": "code",
   "execution_count": 21,
   "id": "0f5dc046",
   "metadata": {},
   "outputs": [],
   "source": [
    "class Person:\n",
    "    def __init__(self, name, age):\n",
    "        self._name = name\n",
    "        self._age = age\n",
    "\n",
    "    def get_name(self):\n",
    "        return self._name\n",
    "\n",
    "    def set_age(self, age):\n",
    "        if age > 0:\n",
    "            self._age = age\n",
    "        else:\n",
    "            print(\"Age must be a positive integer.\")\n",
    "\n",
    "    def get_age(self):\n",
    "        return self._age\n"
   ]
  },
  {
   "cell_type": "code",
   "execution_count": 22,
   "id": "22803993",
   "metadata": {},
   "outputs": [
    {
     "name": "stdout",
     "output_type": "stream",
     "text": [
      "Name: Alice\n",
      "Age: 35\n"
     ]
    }
   ],
   "source": [
    "# Create a new person object\n",
    "person = Person(\"Alice\", 30)\n",
    "\n",
    "# Use the getter to get the person's name\n",
    "name = person.get_name()\n",
    "print(\"Name:\", name)\n",
    "\n",
    "# Use the setter to update the person's age\n",
    "person.set_age(35)\n",
    "\n",
    "# Use the getter to get the person's age\n",
    "age = person.get_age()\n",
    "print(\"Age:\", age)\n"
   ]
  },
  {
   "cell_type": "markdown",
   "id": "4647615d",
   "metadata": {},
   "source": [
    "#### Q5.What is method overriding in python? Write a python code to demonstrate method overriding."
   ]
  },
  {
   "cell_type": "markdown",
   "id": "06ca92d6",
   "metadata": {},
   "source": [
    "####  Ans-  Method overriding is a concept in object-oriented programming where a subclass provides a new implementation of a method that is already defined in its superclass. When a method in a subclass has the same name, parameters, and return type as a method in its superclass, the method in the subclass overrides the method in the superclass.\n",
    "\n",
    "Here's an example of method overriding in Python:"
   ]
  },
  {
   "cell_type": "code",
   "execution_count": 24,
   "id": "04f8541c",
   "metadata": {},
   "outputs": [
    {
     "name": "stdout",
     "output_type": "stream",
     "text": [
      "The animal makes a sound.\n",
      "The dog barks.\n",
      "The cat meows.\n"
     ]
    }
   ],
   "source": [
    "class Animal:\n",
    "    def make_sound(self):\n",
    "        print(\"The animal makes a sound.\")\n",
    "\n",
    "class Dog(Animal):\n",
    "    def make_sound(self):\n",
    "        print(\"The dog barks.\")\n",
    "\n",
    "class Cat(Animal):\n",
    "    def make_sound(self):\n",
    "        print(\"The cat meows.\")\n",
    "\n",
    "# Create objects of the Animal, Dog, and Cat classes\n",
    "animal = Animal()\n",
    "dog = Dog()\n",
    "cat = Cat()\n",
    "\n",
    "# Call the make_sound() method on each object\n",
    "animal.make_sound() \n",
    "dog.make_sound()    \n",
    "cat.make_sound()     "
   ]
  },
  {
   "cell_type": "code",
   "execution_count": null,
   "id": "6444dc53",
   "metadata": {},
   "outputs": [],
   "source": []
  }
 ],
 "metadata": {
  "kernelspec": {
   "display_name": "Python 3 (ipykernel)",
   "language": "python",
   "name": "python3"
  },
  "language_info": {
   "codemirror_mode": {
    "name": "ipython",
    "version": 3
   },
   "file_extension": ".py",
   "mimetype": "text/x-python",
   "name": "python",
   "nbconvert_exporter": "python",
   "pygments_lexer": "ipython3",
   "version": "3.9.13"
  }
 },
 "nbformat": 4,
 "nbformat_minor": 5
}
